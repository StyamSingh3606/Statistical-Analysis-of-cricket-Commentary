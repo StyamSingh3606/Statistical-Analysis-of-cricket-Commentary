{
  "nbformat": 4,
  "nbformat_minor": 0,
  "metadata": {
    "colab": {
      "provenance": [],
      "collapsed_sections": [
        "dHCLvOEgJC5y",
        "k6qDSJ7CRPtk",
        "NFSQ7pIAgkgp"
      ]
    },
    "kernelspec": {
      "name": "python3",
      "display_name": "Python 3"
    },
    "language_info": {
      "name": "python"
    }
  },
  "cells": [
    {
      "cell_type": "code",
      "execution_count": null,
      "metadata": {
        "id": "chC3N-bOX2Xr"
      },
      "outputs": [],
      "source": [
        "import spacy\n",
        "import numpy as np\n",
        "import re\n",
        "from spacy import displacy\n",
        "from spacy.matcher import Matcher\n",
        "import spacy\n",
        "from spacy.tokens import Span\n",
        "from collections import Counter, defaultdict\n",
        "import math"
      ]
    },
    {
      "cell_type": "markdown",
      "source": [
        "#Entity Ruler"
      ],
      "metadata": {
        "id": "nPsA1fNfJJln"
      }
    },
    {
      "cell_type": "code",
      "source": [
        "nlp  = spacy.load(\"en_core_web_sm\")\n",
        "text = \"A short ball, out OUT! what a wonderful wicket by Mohammed Shami through the middle wicket.\"\n",
        "doc = nlp(text)"
      ],
      "metadata": {
        "id": "yYcQFzWns5oz"
      },
      "execution_count": null,
      "outputs": []
    },
    {
      "cell_type": "code",
      "source": [
        "for ent in doc.ents:\n",
        "  print(ent.text, ent.label_)"
      ],
      "metadata": {
        "colab": {
          "base_uri": "https://localhost:8080/"
        },
        "id": "EpB1TFOzC1YD",
        "outputId": "7aaf9066-437c-4471-c5c5-20b54204d589"
      },
      "execution_count": null,
      "outputs": [
        {
          "output_type": "stream",
          "name": "stdout",
          "text": [
            "Mohammed Shami PERSON\n"
          ]
        }
      ]
    },
    {
      "cell_type": "code",
      "source": [
        "ruler = nlp.add_pipe(\"entity_ruler\", before = \"ner\")"
      ],
      "metadata": {
        "id": "EhNoA-RvFgFY"
      },
      "execution_count": null,
      "outputs": []
    },
    {
      "cell_type": "code",
      "source": [
        "patterns = [\n",
        "    {\"label\": \"EVENT\", \"pattern\": \"OUT\"}\n",
        "]"
      ],
      "metadata": {
        "id": "velNQbM_F0T3"
      },
      "execution_count": null,
      "outputs": []
    },
    {
      "cell_type": "code",
      "source": [
        "ruler.add_patterns(patterns)"
      ],
      "metadata": {
        "id": "ltm9efnIIM-_"
      },
      "execution_count": null,
      "outputs": []
    },
    {
      "cell_type": "code",
      "source": [
        "doc2 = nlp(text)\n",
        "for ent in doc2.ents:\n",
        "  print(ent.text, ent.label_)"
      ],
      "metadata": {
        "colab": {
          "base_uri": "https://localhost:8080/"
        },
        "id": "yvKIVDgVGXsK",
        "outputId": "24fceb89-e376-4341-9103-64a10625026f"
      },
      "execution_count": null,
      "outputs": [
        {
          "output_type": "stream",
          "name": "stdout",
          "text": [
            "OUT EVENT\n",
            "Mohammed Shami PERSON\n"
          ]
        }
      ]
    },
    {
      "cell_type": "markdown",
      "source": [
        "#MATCHER"
      ],
      "metadata": {
        "id": "dHCLvOEgJC5y"
      }
    },
    {
      "cell_type": "code",
      "source": [
        "with open(\"/content/trial_comm.txt\", \"r\") as f:\n",
        "  text = f.read()"
      ],
      "metadata": {
        "id": "7zmoxnSck85N"
      },
      "execution_count": null,
      "outputs": []
    },
    {
      "cell_type": "code",
      "source": [
        "nlp  = spacy.load(\"en_core_web_sm\")\n",
        "doc = nlp(text)\n",
        "for token in doc[:20]:\n",
        "  print(token, \"\\t\\t\", token.pos_)"
      ],
      "metadata": {
        "id": "zcfJT-qhlGLl"
      },
      "execution_count": null,
      "outputs": []
    },
    {
      "cell_type": "code",
      "source": [
        "speak_lemma = ['to']\n",
        "matcher = Matcher(nlp.vocab)\n",
        "pattern = [{\"ORTH\": \":\"},\n",
        "           {\"IS_ALPHA\": True, \"OP\": \"+\"},\n",
        "           {\"POS\": \"ADP\", \"LEMMA\": {\"IN\": speak_lemma}},\n",
        "           {\"POS\": \"PROPN\", \"OP\": \"+\"},\n",
        "           ]\n",
        "matcher.add(\"PROPER_NOUN\", [pattern], greedy = \"LONGEST\")\n",
        "matches = matcher(doc)\n",
        "matches.sort(key = lambda x: x[1])\n",
        "print(len(matches))\n",
        "for match in matches:\n",
        "  print(match, doc[match[1]:match[2]])"
      ],
      "metadata": {
        "colab": {
          "base_uri": "https://localhost:8080/"
        },
        "id": "_IDiBt8flYuF",
        "outputId": "10c38ec2-7f17-4745-9801-3dfcf3090093"
      },
      "execution_count": null,
      "outputs": [
        {
          "output_type": "stream",
          "name": "stdout",
          "text": [
            "7\n",
            "(451313080118390996, 30, 36) : Jasprit Bumrah to Jhye Richardson\n",
            "(451313080118390996, 114, 120) : Jasprit Bumrah to Jhye Richardson\n",
            "(451313080118390996, 172, 178) : Jasprit Bumrah to Nathan Lyon\n",
            "(451313080118390996, 226, 232) : Jasprit Bumrah to Jhye Richardson\n",
            "(451313080118390996, 271, 277) : Jasprit Bumrah to Jhye Richardson\n",
            "(451313080118390996, 307, 313) : Jasprit Bumrah to Jhye Richardson\n",
            "(451313080118390996, 366, 372) : Bhuvneshwar Kumar to Nathan Lyon\n"
          ]
        }
      ]
    },
    {
      "cell_type": "markdown",
      "source": [
        "#Extraction"
      ],
      "metadata": {
        "id": "k6qDSJ7CRPtk"
      }
    },
    {
      "cell_type": "code",
      "source": [
        "from sklearn.feature_extraction.text import TfidfVectorizer\n",
        "from sklearn.feature_extraction.text import ENGLISH_STOP_WORDS\n",
        "\n",
        "# Define custom preprocessing function\n",
        "def preprocess_text(text):\n",
        "    # Convert text to lowercase\n",
        "    text = text.lower()\n",
        "\n",
        "    # Remove non-alphabetic characters\n",
        "    text = re.sub(r'[^a-zA-Z\\s]', '', text)\n",
        "\n",
        "    # Remove stopwords\n",
        "    text = ' '.join(word for word in text.split() if word not in ENGLISH_STOP_WORDS)\n",
        "\n",
        "    return text\n",
        "\n",
        "# Read data from the file\n",
        "with open(\"/content/comm.txt\", \"r\") as f:\n",
        "    documents = f.read()\n",
        "\n",
        "# Preprocess the documents using the custom preprocessing function\n",
        "documents = preprocess_text(documents)\n",
        "\n",
        "# Initialize the TfidfVectorizer with custom parameters\n",
        "vectorizer = TfidfVectorizer()\n",
        "\n",
        "# Fit the model and transform the preprocessed documents into TF-IDF vectors\n",
        "tfidf_matrix = vectorizer.fit_transform([documents])\n",
        "\n",
        "# Get feature names to use as columns in the DataFrame\n",
        "feature_names = vectorizer.get_feature_names_out()\n",
        "\n",
        "# Convert the tfidf_matrix to a dense matrix, then to a DataFrame\n",
        "import pandas as pd\n",
        "tfidf_df = pd.DataFrame(tfidf_matrix.todense(), columns=feature_names)\n",
        "\n",
        "# Display the DataFrame\n",
        "print(tfidf_df)\n"
      ],
      "metadata": {
        "colab": {
          "base_uri": "https://localhost:8080/"
        },
        "id": "qTVosLY9RTQF",
        "outputId": "ac559c0f-e529-4c52-c075-20458fd53bc1"
      },
      "execution_count": null,
      "outputs": [
        {
          "output_type": "stream",
          "name": "stdout",
          "text": [
            "      aaron  absolute    action     added  adjusts     ahead       air  \\\n",
            "0  0.074643  0.001265  0.001265  0.003795  0.00253  0.001265  0.008856   \n",
            "\n",
            "       alex   allows     anger  ...      wide    wided    width    willow  \\\n",
            "0  0.012651  0.00253  0.001265  ...  0.020242  0.00253  0.00253  0.001265   \n",
            "\n",
            "      works     world    wrists     yadav       yes   yorker  \n",
            "0  0.031629  0.001265  0.001265  0.073378  0.001265  0.00253  \n",
            "\n",
            "[1 rows x 714 columns]\n"
          ]
        }
      ]
    },
    {
      "cell_type": "code",
      "source": [],
      "metadata": {
        "id": "tPvmSB-Wt1Wb"
      },
      "execution_count": null,
      "outputs": []
    },
    {
      "cell_type": "markdown",
      "source": [
        "#CUSTOM COMPOMENTS"
      ],
      "metadata": {
        "id": "NFSQ7pIAgkgp"
      }
    },
    {
      "cell_type": "code",
      "source": [
        "with open(\"/content/comm.txt\", \"r\") as f:\n",
        "  commentary = f.read()"
      ],
      "metadata": {
        "id": "5qeIdwcnp1fX"
      },
      "execution_count": null,
      "outputs": []
    },
    {
      "cell_type": "code",
      "source": [
        "nlp = spacy.load(\"en_core_web_sm\")"
      ],
      "metadata": {
        "id": "k-5jq7uOCJ2t"
      },
      "execution_count": null,
      "outputs": []
    },
    {
      "cell_type": "code",
      "source": [
        "# Initialize a defaultdict to store counts, runs, and ball counts\n",
        "bowler_stats = defaultdict(lambda: {'wickets': 0, 'dot_balls': 0, 'runs_given': 0, 'balls_bowled': 0})\n",
        "\n",
        "# Existing regex patterns\n",
        "wicket_pattern = r\"Delivery: (\\w+ \\w+) to \\w+ \\w+\\sCommentary:.*?OUT!\"\n",
        "dot_ball_pattern = r\"Delivery: (\\w+ \\w+) to \\w+ \\w+\\sCommentary:.*?no run,\"\n",
        "runs_pattern = r\"Delivery: (\\w+ \\w+) to \\w+ \\w+\\sCommentary:.*?(SIX|FOUR|wide, 1 run|[0-9]+ run)\"\n",
        "delivery_pattern = r\"Delivery: (\\w+ \\w+) to\"\n",
        "\n",
        "# Count deliveries to calculate overs\n",
        "for match in re.finditer(delivery_pattern, commentary):\n",
        "    bowler = match.group(1)\n",
        "    bowler_stats[bowler]['balls_bowled'] += 1\n",
        "\n",
        "# Find and count wickets\n",
        "for match in re.finditer(wicket_pattern, commentary, re.DOTALL):\n",
        "    bowler = match.group(1)\n",
        "    bowler_stats[bowler]['wickets'] += 1\n",
        "\n",
        "# Find and count dot balls\n",
        "for match in re.finditer(dot_ball_pattern, commentary, re.DOTALL):\n",
        "    bowler = match.group(1)\n",
        "    bowler_stats[bowler]['dot_balls'] += 1\n",
        "\n",
        "# Find and count runs\n",
        "for match in re.finditer(runs_pattern, commentary, re.DOTALL):\n",
        "    bowler = match.group(1)\n",
        "    run_phrase = match.group(2)\n",
        "    if run_phrase == \"SIX\":\n",
        "        runs = 6\n",
        "    elif run_phrase == \"FOUR\":\n",
        "        runs = 4\n",
        "    elif run_phrase.startswith(\"wide\"):\n",
        "        runs = 1  # Considering wides that contribute a run\n",
        "    else:\n",
        "        # Assuming the format \"<number> run\" for other runs\n",
        "        runs = int(re.search(r'\\d+', run_phrase).group())\n",
        "    bowler_stats[bowler]['runs_given'] += runs\n",
        "\n",
        "# Format the output as a list of lists including overs bowled\n",
        "data = [[\n",
        "    bowler,\n",
        "    stats['wickets'],\n",
        "    stats['dot_balls'],\n",
        "    stats['runs_given'],\n",
        "    math.ceil(stats['balls_bowled'] / 6)\n",
        "] for bowler, stats in bowler_stats.items()]\n",
        "\n",
        "print(data)"
      ],
      "metadata": {
        "colab": {
          "base_uri": "https://localhost:8080/"
        },
        "id": "f_urEgtK7ZSJ",
        "outputId": "66f44652-3d99-4ae4-bc7f-d81c347c9a83"
      },
      "execution_count": null,
      "outputs": [
        {
          "output_type": "stream",
          "name": "stdout",
          "text": [
            "[['Jasprit Bumrah', 2, 34, 49, 10], ['Bhuvneshwar Kumar', 3, 31, 43, 10], ['Mohammed Shami', 2, 25, 59, 9], ['Kuldeep Yadav', 0, 25, 63, 10], ['Ravindra Jadeja', 2, 27, 43, 10], ['Kedar Jadhav', 0, 1, 8, 1]]\n"
          ]
        }
      ]
    },
    {
      "cell_type": "code",
      "source": [
        "# Create the EntityRuler component and add it to the pipeline\n",
        "ruler = nlp.add_pipe(\"entity_ruler\", before=\"ner\")\n",
        "\n",
        "# Define patterns for each of the cricket actions you mentioned\n",
        "patterns = [\n",
        "    {\"label\": \"CRICKET_ACTION\", \"pattern\": \"OUT\"},\n",
        "    {\"label\": \"CRICKET_ACTION\", \"pattern\": \"SIX\"},\n",
        "    {\"label\": \"CRICKET_ACTION\", \"pattern\": \"FOUR\"},\n",
        "    {\"label\": \"CRICKET_ACTION\", \"pattern\": \"dot ball\"},\n",
        "    # Add more patterns as needed\n",
        "]\n",
        "\n",
        "# Add the patterns to the ruler\n",
        "ruler.add_patterns(patterns)\n",
        "\n",
        "# Example text\n",
        "text = \"He hit a SIX and then a FOUR before getting OUT. Another delivery was a dot ball.\"\n",
        "\n",
        "# Process the text\n",
        "doc = nlp(text)\n",
        "\n",
        "# Print entities in the text\n",
        "for ent in doc.ents:\n",
        "    print(f\"{ent.text} - {ent.label_}\")"
      ],
      "metadata": {
        "colab": {
          "base_uri": "https://localhost:8080/"
        },
        "id": "rU2Mr6JhFMcN",
        "outputId": "49ef7c3d-bce4-4812-ca56-2569adc9755f"
      },
      "execution_count": null,
      "outputs": [
        {
          "output_type": "stream",
          "name": "stdout",
          "text": [
            "SIX - CRICKET_ACTION\n",
            "FOUR - CRICKET_ACTION\n",
            "OUT - CRICKET_ACTION\n",
            "dot ball - CRICKET_ACTION\n"
          ]
        }
      ]
    },
    {
      "cell_type": "code",
      "source": [
        "# Assign point values (You can adjust these values based on your preference)\n",
        "points_per_wicket = 25\n",
        "points_per_dot_ball = 1\n",
        "points_deducted_per_run_given = -0.5\n",
        "\n",
        "# Calculate scores for each bowler\n",
        "for bowler_data in data:\n",
        "    bowler, wickets, dot_balls, runs_given, overs_bowled = bowler_data\n",
        "    score = (wickets * points_per_wicket + dot_balls * points_per_dot_ball + runs_given * points_deducted_per_run_given)\n",
        "\n",
        "    # Normalize score by the number of balls bowled (assuming 6 balls per over for normalization)\n",
        "    balls_bowled = overs_bowled * 6\n",
        "    normalized_score = score / balls_bowled if balls_bowled > 0 else 0\n",
        "\n",
        "    # Update bowler data with calculated score\n",
        "    bowler_data.append(normalized_score)\n",
        "\n",
        "# Sort bowlers by their normalized score in descending order to get the preference order\n",
        "preference_order = sorted(data, key=lambda x: x[-1], reverse=True)\n",
        "\n",
        "# Displaying the preference order\n",
        "for idx, bowler_data in enumerate(preference_order, start=1):\n",
        "    bowler, wickets, dot_balls, runs_given, overs_bowled, score = bowler_data\n",
        "    print(f\"Rank {idx}: {bowler}, Score: {score:.2f} (Wickets: {wickets}, Dot Balls: {dot_balls}, Runs Given: {runs_given}, Overs Bowled: {overs_bowled})\")"
      ],
      "metadata": {
        "colab": {
          "base_uri": "https://localhost:8080/"
        },
        "id": "zsckQLki-EV0",
        "outputId": "dd6badf3-8d07-46e4-a618-ef64e9342947"
      },
      "execution_count": null,
      "outputs": [
        {
          "output_type": "stream",
          "name": "stdout",
          "text": [
            "Rank 1: Bhuvneshwar Kumar, Score: 1.41 (Wickets: 3, Dot Balls: 31, Runs Given: 43, Overs Bowled: 10)\n",
            "Rank 2: Jasprit Bumrah, Score: 0.99 (Wickets: 2, Dot Balls: 34, Runs Given: 49, Overs Bowled: 10)\n",
            "Rank 3: Ravindra Jadeja, Score: 0.93 (Wickets: 2, Dot Balls: 27, Runs Given: 43, Overs Bowled: 10)\n",
            "Rank 4: Mohammed Shami, Score: 0.84 (Wickets: 2, Dot Balls: 25, Runs Given: 59, Overs Bowled: 9)\n",
            "Rank 5: Kuldeep Yadav, Score: -0.11 (Wickets: 0, Dot Balls: 25, Runs Given: 63, Overs Bowled: 10)\n",
            "Rank 6: Kedar Jadhav, Score: -0.50 (Wickets: 0, Dot Balls: 1, Runs Given: 8, Overs Bowled: 1)\n"
          ]
        }
      ]
    },
    {
      "cell_type": "code",
      "source": [
        "import matplotlib.pyplot as plt\n",
        "\n",
        "# Assuming 'preference_order' is your sorted list containing bowler data\n",
        "bowlers = [item[0] for item in preference_order]  # Extract bowler names\n",
        "scores = [item[-1] for item in preference_order]  # Extract calculated scores\n",
        "\n",
        "# Create a bar chart\n",
        "plt.figure(figsize=(10, 6))  # Set the figure size\n",
        "bars = plt.bar(bowlers, scores, color='skyblue')  # Create a bar chart\n",
        "\n",
        "# Add titles and labels\n",
        "plt.title('Bowler Performance Scores')\n",
        "plt.xlabel('Bowler')\n",
        "plt.ylabel('Normalized Score')\n",
        "\n",
        "# Rotate the bowler names on x-axis for better readability\n",
        "plt.xticks(rotation=45, ha=\"right\")\n",
        "\n",
        "# Adding value labels on top of each bar\n",
        "for bar in bars:\n",
        "    yval = bar.get_height()\n",
        "    plt.text(bar.get_x() + bar.get_width()/2.0, yval, f\"{yval:.2f}\", va='bottom')  # va='bottom' to make it easier to read\n",
        "\n",
        "# Show plot\n",
        "plt.tight_layout()  # Adjust layout to not cut off labels\n",
        "plt.show()"
      ],
      "metadata": {
        "colab": {
          "base_uri": "https://localhost:8080/",
          "height": 607
        },
        "id": "wAVAMHMMFq6A",
        "outputId": "043b2afd-262c-4c1d-f524-d14c7aa900d7"
      },
      "execution_count": null,
      "outputs": [
        {
          "output_type": "display_data",
          "data": {
            "text/plain": [
              "<Figure size 1000x600 with 1 Axes>"
            ],
            "image/png": "[encoded data removed]"
          },
          "metadata": {}
        }
      ]
    }
  ]
}